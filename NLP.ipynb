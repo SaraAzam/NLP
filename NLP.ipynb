{
  "nbformat": 4,
  "nbformat_minor": 0,
  "metadata": {
    "colab": {
      "name": "NLP",
      "provenance": [],
      "collapsed_sections": []
    },
    "kernelspec": {
      "name": "python3",
      "display_name": "Python 3"
    }
  },
  "cells": [
    {
      "cell_type": "code",
      "metadata": {
        "colab": {
          "base_uri": "https://localhost:8080/"
        },
        "id": "Po9wW4idNez3",
        "outputId": "b867b16a-441e-46a7-b0d1-593caf63049a"
      },
      "source": [
        "\n",
        " \n",
        "ls=[]\n",
        "a= input()\n",
        "for i in a:\n",
        "   if i=='z':\n",
        "     i='a'\n",
        "     ls.append(i)\n",
        "   elif i=='z':\n",
        "       i='A'\n",
        "       ls.append(i)\n",
        "   else:\n",
        "         b=ord(i)\n",
        "         b=b+1\n",
        "         b=chr(b)\n",
        "         ls.append(b)\n",
        "print(ls)  "
      ],
      "execution_count": 1,
      "outputs": [
        {
          "output_type": "stream",
          "text": [
            "f\n",
            "['g']\n"
          ],
          "name": "stdout"
        }
      ]
    },
    {
      "cell_type": "code",
      "metadata": {
        "colab": {
          "base_uri": "https://localhost:8080/"
        },
        "id": "ehs8HomqT9z3",
        "outputId": "7ae449bc-8d7f-4e4e-9fa4-472b2a72b74c"
      },
      "source": [
        " \n",
        "ls=[]\n",
        "a= input()\n",
        "for i in a:\n",
        "   if i=='z':\n",
        "     i='a'\n",
        "     ls.append(i)\n",
        "   elif i=='z':\n",
        "       i='A'\n",
        "       ls.append(i)\n",
        "   else:\n",
        "         b=ord(i)\n",
        "         b=b+1\n",
        "         b=chr(b)\n",
        "         ls.append(b)\n",
        "print(ls)  "
      ],
      "execution_count": null,
      "outputs": [
        {
          "output_type": "stream",
          "text": [
            "@\n",
            "['A']\n"
          ],
          "name": "stdout"
        }
      ]
    }
  ]
}